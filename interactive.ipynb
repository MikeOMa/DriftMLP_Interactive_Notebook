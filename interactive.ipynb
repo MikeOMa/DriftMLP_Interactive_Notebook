{
 "cells": [
  {
   "cell_type": "markdown",
   "metadata": {},
   "source": [
    "## DriftMLP demonstration\n",
    "\n",
    "- This a very quick and brief demonstration of the pathways which the driftmlp finds.\n",
    "- The intended use of the application is to have a brief preview of the results which the driftmlp package and method supplies.\n",
    "\n",
    "\n",
    "\n",
    "## Instructions\n",
    "\n",
    "Select two locations using the four sliders below. Upon releasing the mouse a map will be shown displaying the most likely pathway from the transition matrix.\n",
    "The blue pathway shows the path going from (lon_from, lat_from) to (lon_to, lat_to); the red pathway shows the return.\n",
    "The two points are shown in the top plot; from in blue, to in red.\n",
    "\n",
    "Use the dropdown menu to select which drifter data subset to use to estimate the transition matrix.\n",
    "- Drogued drifters will give pathways corresponding to top 15m flows. The drifters in this dataset have less of a wind forcing.\n",
    "- Undrogued drifters will give pathways corresponding to near surface flows, with a stronger influence from the surface stress winds.\n",
    "- Both is simply just a mixture of both datasets.\n",
    "\n",
    "Typically undrogued drifters and the both options will have shorter travel times. \n",
    "\n",
    "\n"
   ]
  },
  {
   "cell_type": "code",
   "execution_count": 1,
   "metadata": {},
   "outputs": [
    {
     "data": {
      "application/vnd.jupyter.widget-view+json": {
       "model_id": "8d00f3ed8f6743c08248d194f278b397",
       "version_major": 2,
       "version_minor": 0
      },
      "text/plain": [
       "interactive(children=(FloatSlider(value=-158.0, continuous_update=False, description='lon_from', max=180.0, mi…"
      ]
     },
     "metadata": {},
     "output_type": "display_data"
    }
   ],
   "source": [
    "from ipywidgets import interact, widgets, interactive, fixed, interact_manual, FloatSlider\n",
    "from app_backend import interactive_app\n",
    "import zipfile\n",
    "\n",
    "graph_zip = zipfile.ZipFile(\"graph_files.zip\")\n",
    "graph_zip.extractall()\n",
    "\n",
    "p = widgets.Dropdown(\n",
    "    options=[('No Drogued Drifters', 'nodrg'), ('Drogued Drifters', 'drg'), ('Both Drogued and Undrogued', 'both')],\n",
    "    description='Drogued',\n",
    "    disabled=False,\n",
    ")\n",
    "\n",
    "# Set this finer for more precise locations\n",
    "step_size=1e-3\n",
    "# The application will only update on mouse release \n",
    "continuous_update=False\n",
    "loc_sliders=[FloatSlider(value=-158, min=-180, max=180, step=step_size, continuous_update=False),\n",
    "             FloatSlider(value=44, min=-80, max=80, step=step_size, continuous_update=False),\n",
    "             FloatSlider(value=-19.55, min=-180, max=180, step=step_size, continuous_update=False),\n",
    "             FloatSlider(value=-52, min=-80, max=80, step=step_size, continuous_update=False)\n",
    "            ]\n",
    "interact_inst = interactive_app()\n",
    "w = interactive(interact_inst.__call__,\n",
    "                lon_from = loc_sliders[0],\n",
    "                lat_from = loc_sliders[1],\n",
    "                lon_to = loc_sliders[2],\n",
    "                lat_to = loc_sliders[3],\n",
    "                network_type=p\n",
    "               )\n",
    "\n",
    "output_folium = w.children[-1]\n",
    "output_folium.layout.height = '900px'\n",
    "output_folium.layout.width = '600px'\n",
    "\n",
    "display(w)"
   ]
  },
  {
   "cell_type": "markdown",
   "metadata": {},
   "source": [
    "# Trouble Shooting\n",
    "\n",
    "Only proceed with the following if it has been 10 seconds or longer.\n",
    "If you can not see the sliders or dropdown menu try the following\n",
    "\n",
    "1. If your are in \"app mode\" (If you can't see any python code, you probably are), first click \"edit app\" up the top of the page.\n",
    "2. Now you should be able to see the python source code. Try clicking on the cell (where the code is shown) and pressing shift enter to re-run the cell. \n",
    "\n",
    "\n",
    "# Next Steps\n",
    "\n",
    "For more advance usage of the package see https://driftmlp.readthedocs.io/ . \n",
    "\n",
    "The extra features include:\n",
    "\n",
    "- Making scientific plots of the pathways using cartopy and matplotlib.\n",
    "- Estimating both variance and more robust travel times using rotations and bootstrap.\n",
    "- Faster estimation for one origin to many destinations.\n",
    "- Ability to control parameters and fineness of the discrete indices.\n",
    "\n",
    "\n",
    "# Currents map\n",
    "Great interactive app here:\n",
    "\n",
    "https://earth.nullschool.net/#current/ocean/surface/currents/overlay=significant_wave_height/orthographic=-66.27,30.52,615"
   ]
  },
  {
   "cell_type": "code",
   "execution_count": null,
   "metadata": {},
   "outputs": [],
   "source": []
  }
 ],
 "metadata": {
  "kernelspec": {
   "display_name": "test_driftmlp",
   "language": "python",
   "name": "test_driftmlp"
  },
  "language_info": {
   "codemirror_mode": {
    "name": "ipython",
    "version": 3
   },
   "file_extension": ".py",
   "mimetype": "text/x-python",
   "name": "python",
   "nbconvert_exporter": "python",
   "pygments_lexer": "ipython3",
   "version": "3.9.0"
  }
 },
 "nbformat": 4,
 "nbformat_minor": 4
}
