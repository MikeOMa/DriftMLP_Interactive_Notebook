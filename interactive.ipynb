{
 "cells": [
  {
   "cell_type": "markdown",
   "metadata": {},
   "source": [
    "## DriftMLP demonstration\n",
    "\n",
    "- This a very quick and brief demonstration of the pathways which the driftmlp finds.\n",
    "- The intended use of the application is to have a brief preview of the results which the driftmlp package and method supplies.\n",
    "\n",
    "\n",
    "Select two locations using the four sliders below. Upon releasing the mouse a map will be shown displaying the most likely pathway from the transition matrix.\n",
    "The blue pathway shows the path going from (lon_from, lat_from) to (lon_to, lat_to); the red pathway shows the return.\n",
    "\n",
    "Use the dropdown menu to select which drifter data subset to use to estimate the transition matrix.\n",
    "- Drogued drifters will give pathways corresponding to top 15m flows. The drifters in this dataset have less of a wind forcing.\n",
    "- Undrogued drifters will give pathways corresponding to near surface flows, with a stronger influence from the surface stress winds.\n",
    "- Both is simply just a mixture of both datasets.\n"
   ]
  },
  {
   "cell_type": "code",
   "execution_count": 1,
   "metadata": {},
   "outputs": [
    {
     "data": {
      "application/vnd.jupyter.widget-view+json": {
       "model_id": "a0f5bbc60efc48428eb74a1650e55481",
       "version_major": 2,
       "version_minor": 0
      },
      "text/plain": [
       "interactive(children=(FloatSlider(value=0.0, continuous_update=False, description='lon_from', max=180.0, min=-…"
      ]
     },
     "metadata": {},
     "output_type": "display_data"
    }
   ],
   "source": [
    "from ipywidgets import interact, widgets, interactive, fixed, interact_manual, FloatSlider\n",
    "from app_backend import interactive_app\n",
    "\n",
    "p = widgets.Dropdown(\n",
    "    options=[('No Drogued Drifters', 'nodrg'), ('Drogued Drifters', 'drg'), ('Both Drogued and Undrogued', 'both')],\n",
    "    description='Drogued',\n",
    "    disabled=False,\n",
    ")\n",
    "\n",
    "# Set this finer for more precise locations\n",
    "step_size=1e-3\n",
    "# The application will only update on mouse release \n",
    "continuous_update=False\n",
    "loc_sliders=[FloatSlider(min=-180, max=180, step=step_size, continuous_update=False),\n",
    "             FloatSlider(value=5,min=-60, max=60, step=step_size, continuous_update=False),\n",
    "             FloatSlider(min=-180, max=180, step=step_size, continuous_update=False),\n",
    "             FloatSlider(min=-60, max=60, step=step_size, continuous_update=False)\n",
    "            ]\n",
    "interact_inst = interactive_app()\n",
    "w = interactive(interact_inst.__call__,\n",
    "                lon_from = loc_sliders[0],\n",
    "                lat_from = loc_sliders[1],\n",
    "                lon_to = loc_sliders[2],\n",
    "                lat_to = loc_sliders[3],\n",
    "                network_type=p\n",
    "               )\n",
    "\n",
    "output_folium = w.children[-1]\n",
    "output_folium.layout.height = '800px'\n",
    "output_folium.layout.width = '600px'\n",
    "\n",
    "display(w)"
   ]
  },
  {
   "cell_type": "code",
   "execution_count": null,
   "metadata": {},
   "outputs": [],
   "source": []
  }
 ],
 "metadata": {
  "kernelspec": {
   "display_name": "test_driftmlp",
   "language": "python",
   "name": "test_driftmlp"
  },
  "language_info": {
   "codemirror_mode": {
    "name": "ipython",
    "version": 3
   },
   "file_extension": ".py",
   "mimetype": "text/x-python",
   "name": "python",
   "nbconvert_exporter": "python",
   "pygments_lexer": "ipython3",
   "version": "3.9.0"
  }
 },
 "nbformat": 4,
 "nbformat_minor": 4
}
